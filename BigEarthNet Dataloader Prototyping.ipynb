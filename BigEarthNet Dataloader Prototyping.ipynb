{
 "cells": [
  {
   "cell_type": "code",
   "execution_count": 1,
   "metadata": {},
   "outputs": [],
   "source": [
    "import os\n",
    "\n",
    "data_dir = \"../BigEarthNet-v1.0/\"\n",
    "cloud_shadow_file = \"../patches_with_cloud_and_shadow.csv\"\n",
    "snow_file = \"../patches_with_seasonal_snow.csv\"\n",
    "patches = os.listdir(data_dir)\n",
    "patches.sort()\n",
    "len(patches)\n",
    "\n",
    "%load_ext autoreload\n",
    "%autoreload 2\n",
    "\n",
    "import load_data"
   ]
  },
  {
   "cell_type": "code",
   "execution_count": 4,
   "metadata": {},
   "outputs": [
    {
     "name": "stdout",
     "output_type": "stream",
     "text": [
      "Reloading train-val-test split cache from splits.pkl\n"
     ]
    }
   ],
   "source": [
    "data = load_data.BigEarthNetDataset(split_file=\"splits.pkl\")"
   ]
  },
  {
   "cell_type": "code",
   "execution_count": 23,
   "metadata": {},
   "outputs": [
    {
     "name": "stdout",
     "output_type": "stream",
     "text": [
      "Reloading train-val-test split cache from splits.pkl\n"
     ]
    }
   ],
   "source": [
    "meta_dataset = load_data.MetaBigEarthNetTaskDataset(split_file=\"splits.pkl\")"
   ]
  },
  {
   "cell_type": "code",
   "execution_count": 34,
   "metadata": {},
   "outputs": [],
   "source": [
    "imgs, labels = next(iter(meta_dataset))"
   ]
  },
  {
   "cell_type": "code",
   "execution_count": 35,
   "metadata": {},
   "outputs": [
    {
     "data": {
      "text/plain": [
       "torch.Size([4, 43])"
      ]
     },
     "execution_count": 35,
     "metadata": {},
     "output_type": "execute_result"
    }
   ],
   "source": [
    "labels.size()"
   ]
  },
  {
   "cell_type": "code",
   "execution_count": null,
   "metadata": {},
   "outputs": [],
   "source": [
    "import csv\n",
    "import gdal\n",
    "import rasterio"
   ]
  },
  {
   "cell_type": "code",
   "execution_count": null,
   "metadata": {},
   "outputs": [],
   "source": [
    "\n",
    "elimination_patch_list = []  \n",
    "for file_path in [cloud_shadow_file, snow_file]:\n",
    "    if not os.path.exists(file_path):\n",
    "        print('ERROR: file located at', file_path, 'does not exist')\n",
    "        exit()\n",
    "    with open(file_path, 'r') as f:\n",
    "        csv_reader = csv.reader(f, delimiter=',')\n",
    "        for row in csv_reader:\n",
    "            elimination_patch_list.append(row[0])\n",
    "#print('INFO:', len(elimination_patch_list), 'number of patches will be eliminated')\n",
    "elimination_patch_list = set(elimination_patch_list)\n"
   ]
  },
  {
   "cell_type": "code",
   "execution_count": null,
   "metadata": {},
   "outputs": [],
   "source": [
    "filtered_patches = [patch for patch in patches if patch not in elimination_patch_list]\n",
    "len(filtered_patches)"
   ]
  },
  {
   "cell_type": "code",
   "execution_count": null,
   "metadata": {},
   "outputs": [],
   "source": [
    "os.listdir(os.path.join(data_dir, patches[2]))"
   ]
  },
  {
   "cell_type": "code",
   "execution_count": null,
   "metadata": {},
   "outputs": [],
   "source": [
    "import random\n",
    "idx = random.randint(0, len(patches))\n",
    "all_bands = ['B01', 'B02', 'B03', 'B04', 'B05',\n",
    "              'B06', 'B07', 'B08', 'B8A', 'B09', 'B11', 'B12']\n",
    "rgb_bands = ['B04', 'B03', 'B02']\n",
    "\n",
    "band_stack = []\n",
    "for bands in rgb_bands:\n",
    "    band_path = os.path.join(data_dir, patches[idx], \"{}_{}.tif\".format(patches[idx], bands))\n",
    "    print(\"Loading\", band_path)\n",
    "    assert os.path.isfile(band_path)\n",
    "\n",
    "    band_ds = gdal.Open(band_path,  gdal.GA_ReadOnly)\n",
    "    raster_band = band_ds.GetRasterBand(1)\n",
    "    band_data = raster_band.ReadAsArray()\n",
    "    band_stack.append(band_data)\n",
    "\n"
   ]
  },
  {
   "cell_type": "code",
   "execution_count": null,
   "metadata": {},
   "outputs": [],
   "source": [
    "import matplotlib.pyplot as plt\n",
    "\n",
    "_OPTICAL_MAX_VALUE = 2000. # magic number from some google guys\n",
    "img = np.stack(band_stack) / _OPTICAL_MAX_VALUE # (C, W, H)\n",
    "img = np.clip(img, 0, 1)\n",
    "plt.imshow(np.transpose(img))\n"
   ]
  },
  {
   "cell_type": "code",
   "execution_count": null,
   "metadata": {},
   "outputs": [],
   "source": [
    "import json"
   ]
  },
  {
   "cell_type": "code",
   "execution_count": null,
   "metadata": {},
   "outputs": [],
   "source": [
    "with open(os.path.join(data_dir, patches[idx], \"{}_labels_metadata.json\".format(patches[idx])), 'r') as f:\n",
    "    metadata = json.load(f)"
   ]
  },
  {
   "cell_type": "markdown",
   "metadata": {},
   "source": [
    "metadata"
   ]
  },
  {
   "cell_type": "code",
   "execution_count": null,
   "metadata": {},
   "outputs": [],
   "source": [
    "from collections import Counter\n",
    "\n",
    "c = Counter()\n",
    "c.update(metadata['labels'])\n",
    "c"
   ]
  },
  {
   "cell_type": "code",
   "execution_count": null,
   "metadata": {},
   "outputs": [],
   "source": [
    "from collections import Counter\n",
    "from tqdm.notebook import tqdm\n",
    "import pickle\n",
    "\n",
    "label_counts = Counter()\n",
    "for patch in tqdm(patches):\n",
    "    with open(os.path.join(data_dir, patch, \"{}_labels_metadata.json\".format(patch)), 'r') as f:\n",
    "        metadata = json.load(f)\n",
    "        label_counts.update(metadata['labels'])\n",
    "print(label_counts)\n",
    "\n",
    "with open(\"label_counts_cache.pkl\", \"wb\") as f:\n",
    "    pickle.dump(label_counts, f)"
   ]
  },
  {
   "cell_type": "code",
   "execution_count": null,
   "metadata": {},
   "outputs": [],
   "source": [
    "random.choice(label_counts.keys(), 2)"
   ]
  },
  {
   "cell_type": "code",
   "execution_count": null,
   "metadata": {},
   "outputs": [],
   "source": []
  }
 ],
 "metadata": {
  "kernelspec": {
   "display_name": "Python 3",
   "language": "python",
   "name": "python3"
  },
  "language_info": {
   "codemirror_mode": {
    "name": "ipython",
    "version": 3
   },
   "file_extension": ".py",
   "mimetype": "text/x-python",
   "name": "python",
   "nbconvert_exporter": "python",
   "pygments_lexer": "ipython3",
   "version": "3.7.8"
  }
 },
 "nbformat": 4,
 "nbformat_minor": 4
}
